{
  "nbformat": 4,
  "nbformat_minor": 0,
  "metadata": {
    "colab": {
      "provenance": []
    },
    "kernelspec": {
      "name": "python3",
      "display_name": "Python 3"
    },
    "language_info": {
      "name": "python"
    }
  },
  "cells": [
    {
      "cell_type": "code",
      "execution_count": null,
      "metadata": {
        "colab": {
          "base_uri": "https://localhost:8080/",
          "height": 721
        },
        "id": "hG6okLxkX3JB",
        "outputId": "ec8aeb00-7056-4dc7-ccdf-65e4842eb835"
      },
      "outputs": [
        {
          "output_type": "execute_result",
          "data": {
            "text/plain": [
              "                                 Movie Release Date Release Month  \\\n",
              "0                             Iron Man     5/2/2008           May   \n",
              "1                  The Incredible Hulk    6/13/2008          June   \n",
              "2                           Iron Man 2     5/7/2010           May   \n",
              "3                                 Thor     5/6/2011           May   \n",
              "4   Captain America: The First Avenger    7/22/2011          July   \n",
              "..                                 ...          ...           ...   \n",
              "63                            Blade II    3/22/2002         March   \n",
              "64                      Blade: Trinity    12/8/2004      December   \n",
              "65                             Morbius     4/1/2022         April   \n",
              "66                                Hulk    6/20/2003          June   \n",
              "67                          Madame Web    2/12/2024      February   \n",
              "\n",
              "    Release Day  Release Year           Ownership  Domestic Box Office  \\\n",
              "0             2          2008      Marvel Studios            318604126   \n",
              "1            13          2008      Marvel Studios            134806913   \n",
              "2             7          2010      Marvel Studios            312433331   \n",
              "3             6          2011      Marvel Studios            181030624   \n",
              "4            22          2011      Marvel Studios            176654505   \n",
              "..          ...           ...                 ...                  ...   \n",
              "63           22          2002     New Line Cinema             81676888   \n",
              "64            8          2004     New Line Cinema             52397389   \n",
              "65            1          2022       Sony Pictures             73865530   \n",
              "66           20          2003  Universal Pictures            132177234   \n",
              "67           12          2024       Sony Pictures             43756623   \n",
              "\n",
              "    Inflation Adjusted Domestic  International Box Office  \\\n",
              "0                     467231126                 266567421   \n",
              "1                     197704288                 130766946   \n",
              "2                     416973763                 308723058   \n",
              "3                     240384926                 268295994   \n",
              "4                     234574020                 193915271   \n",
              "..                          ...                       ...   \n",
              "63                    148030572                  72661713   \n",
              "64                     88619322                  78955776   \n",
              "65                     73865530                  88893907   \n",
              "66                    230816958                 112854445   \n",
              "67                     43756623                  53941282   \n",
              "\n",
              "    Inflation Adjusted International  ...  Inflation Adjusted Opening Weekend  \\\n",
              "0                          390919596  ...                           149756442   \n",
              "1                          191779378  ...                            81268794   \n",
              "2                          412022030  ...                           170992360   \n",
              "3                          356261892  ...                            87271973   \n",
              "4                          257494054  ...                            86389190   \n",
              "..                               ...  ...                                 ...   \n",
              "63                         131691537  ...                            58953529   \n",
              "64                         133537328  ...                            27164311   \n",
              "65                          88893907  ...                            39005895   \n",
              "66                         197074178  ...                           108492911   \n",
              "67                          53941282  ...                            15335860   \n",
              "\n",
              "       Budget  Inflation Adjusted Budget  IMDb Score  Meta Score  Tomatometer  \\\n",
              "0   186000000                  272767935         7.9          79           94   \n",
              "1   137500000                  201653899         6.6          61           67   \n",
              "2   170000000                  226882130         6.9          57           72   \n",
              "3   150000000                  199180327         7.0          57           77   \n",
              "4   140000000                  185901643         6.9          66           80   \n",
              "..        ...                        ...         ...         ...          ...   \n",
              "63   54000000                   97869190         6.7          52           57   \n",
              "64   65000000                  109934026         5.8          38           24   \n",
              "65   75000000                   75000000         5.2          35           15   \n",
              "66  137000000                  239238803         5.6          54           63   \n",
              "67   80000000                   80000000         3.8          26           12   \n",
              "\n",
              "    Rotten Tomato Audience Score  Run Time In Minutes  Phase  \\\n",
              "0                             91                  126    One   \n",
              "1                             69                  112    One   \n",
              "2                             71                  124    One   \n",
              "3                             76                  115    One   \n",
              "4                             75                  124    One   \n",
              "..                           ...                  ...    ...   \n",
              "63                            68                  117    NaN   \n",
              "64                            58                  113    NaN   \n",
              "65                            71                  104    NaN   \n",
              "66                            29                  138    NaN   \n",
              "67                            57                  116    NaN   \n",
              "\n",
              "              Director  \n",
              "0          Jon Favreau  \n",
              "1      Louis Leterrier  \n",
              "2          Jon Favreau  \n",
              "3       Kenneth Brangh  \n",
              "4         Joe Johnston  \n",
              "..                 ...  \n",
              "63  Guillermo del Toro  \n",
              "64      David S. Goyer  \n",
              "65     Daniel Espinosa  \n",
              "66             Ang Lee  \n",
              "67       S.J. Clarkson  \n",
              "\n",
              "[68 rows x 23 columns]"
            ],
            "text/html": [
              "\n",
              "  <div id=\"df-506df82b-f488-4992-b0f2-7c16bd107e29\" class=\"colab-df-container\">\n",
              "    <div>\n",
              "<style scoped>\n",
              "    .dataframe tbody tr th:only-of-type {\n",
              "        vertical-align: middle;\n",
              "    }\n",
              "\n",
              "    .dataframe tbody tr th {\n",
              "        vertical-align: top;\n",
              "    }\n",
              "\n",
              "    .dataframe thead th {\n",
              "        text-align: right;\n",
              "    }\n",
              "</style>\n",
              "<table border=\"1\" class=\"dataframe\">\n",
              "  <thead>\n",
              "    <tr style=\"text-align: right;\">\n",
              "      <th></th>\n",
              "      <th>Movie</th>\n",
              "      <th>Release Date</th>\n",
              "      <th>Release Month</th>\n",
              "      <th>Release Day</th>\n",
              "      <th>Release Year</th>\n",
              "      <th>Ownership</th>\n",
              "      <th>Domestic Box Office</th>\n",
              "      <th>Inflation Adjusted Domestic</th>\n",
              "      <th>International Box Office</th>\n",
              "      <th>Inflation Adjusted International</th>\n",
              "      <th>...</th>\n",
              "      <th>Inflation Adjusted Opening Weekend</th>\n",
              "      <th>Budget</th>\n",
              "      <th>Inflation Adjusted Budget</th>\n",
              "      <th>IMDb Score</th>\n",
              "      <th>Meta Score</th>\n",
              "      <th>Tomatometer</th>\n",
              "      <th>Rotten Tomato Audience Score</th>\n",
              "      <th>Run Time In Minutes</th>\n",
              "      <th>Phase</th>\n",
              "      <th>Director</th>\n",
              "    </tr>\n",
              "  </thead>\n",
              "  <tbody>\n",
              "    <tr>\n",
              "      <th>0</th>\n",
              "      <td>Iron Man</td>\n",
              "      <td>5/2/2008</td>\n",
              "      <td>May</td>\n",
              "      <td>2</td>\n",
              "      <td>2008</td>\n",
              "      <td>Marvel Studios</td>\n",
              "      <td>318604126</td>\n",
              "      <td>467231126</td>\n",
              "      <td>266567421</td>\n",
              "      <td>390919596</td>\n",
              "      <td>...</td>\n",
              "      <td>149756442</td>\n",
              "      <td>186000000</td>\n",
              "      <td>272767935</td>\n",
              "      <td>7.9</td>\n",
              "      <td>79</td>\n",
              "      <td>94</td>\n",
              "      <td>91</td>\n",
              "      <td>126</td>\n",
              "      <td>One</td>\n",
              "      <td>Jon Favreau</td>\n",
              "    </tr>\n",
              "    <tr>\n",
              "      <th>1</th>\n",
              "      <td>The Incredible Hulk</td>\n",
              "      <td>6/13/2008</td>\n",
              "      <td>June</td>\n",
              "      <td>13</td>\n",
              "      <td>2008</td>\n",
              "      <td>Marvel Studios</td>\n",
              "      <td>134806913</td>\n",
              "      <td>197704288</td>\n",
              "      <td>130766946</td>\n",
              "      <td>191779378</td>\n",
              "      <td>...</td>\n",
              "      <td>81268794</td>\n",
              "      <td>137500000</td>\n",
              "      <td>201653899</td>\n",
              "      <td>6.6</td>\n",
              "      <td>61</td>\n",
              "      <td>67</td>\n",
              "      <td>69</td>\n",
              "      <td>112</td>\n",
              "      <td>One</td>\n",
              "      <td>Louis Leterrier</td>\n",
              "    </tr>\n",
              "    <tr>\n",
              "      <th>2</th>\n",
              "      <td>Iron Man 2</td>\n",
              "      <td>5/7/2010</td>\n",
              "      <td>May</td>\n",
              "      <td>7</td>\n",
              "      <td>2010</td>\n",
              "      <td>Marvel Studios</td>\n",
              "      <td>312433331</td>\n",
              "      <td>416973763</td>\n",
              "      <td>308723058</td>\n",
              "      <td>412022030</td>\n",
              "      <td>...</td>\n",
              "      <td>170992360</td>\n",
              "      <td>170000000</td>\n",
              "      <td>226882130</td>\n",
              "      <td>6.9</td>\n",
              "      <td>57</td>\n",
              "      <td>72</td>\n",
              "      <td>71</td>\n",
              "      <td>124</td>\n",
              "      <td>One</td>\n",
              "      <td>Jon Favreau</td>\n",
              "    </tr>\n",
              "    <tr>\n",
              "      <th>3</th>\n",
              "      <td>Thor</td>\n",
              "      <td>5/6/2011</td>\n",
              "      <td>May</td>\n",
              "      <td>6</td>\n",
              "      <td>2011</td>\n",
              "      <td>Marvel Studios</td>\n",
              "      <td>181030624</td>\n",
              "      <td>240384926</td>\n",
              "      <td>268295994</td>\n",
              "      <td>356261892</td>\n",
              "      <td>...</td>\n",
              "      <td>87271973</td>\n",
              "      <td>150000000</td>\n",
              "      <td>199180327</td>\n",
              "      <td>7.0</td>\n",
              "      <td>57</td>\n",
              "      <td>77</td>\n",
              "      <td>76</td>\n",
              "      <td>115</td>\n",
              "      <td>One</td>\n",
              "      <td>Kenneth Brangh</td>\n",
              "    </tr>\n",
              "    <tr>\n",
              "      <th>4</th>\n",
              "      <td>Captain America: The First Avenger</td>\n",
              "      <td>7/22/2011</td>\n",
              "      <td>July</td>\n",
              "      <td>22</td>\n",
              "      <td>2011</td>\n",
              "      <td>Marvel Studios</td>\n",
              "      <td>176654505</td>\n",
              "      <td>234574020</td>\n",
              "      <td>193915271</td>\n",
              "      <td>257494054</td>\n",
              "      <td>...</td>\n",
              "      <td>86389190</td>\n",
              "      <td>140000000</td>\n",
              "      <td>185901643</td>\n",
              "      <td>6.9</td>\n",
              "      <td>66</td>\n",
              "      <td>80</td>\n",
              "      <td>75</td>\n",
              "      <td>124</td>\n",
              "      <td>One</td>\n",
              "      <td>Joe Johnston</td>\n",
              "    </tr>\n",
              "    <tr>\n",
              "      <th>...</th>\n",
              "      <td>...</td>\n",
              "      <td>...</td>\n",
              "      <td>...</td>\n",
              "      <td>...</td>\n",
              "      <td>...</td>\n",
              "      <td>...</td>\n",
              "      <td>...</td>\n",
              "      <td>...</td>\n",
              "      <td>...</td>\n",
              "      <td>...</td>\n",
              "      <td>...</td>\n",
              "      <td>...</td>\n",
              "      <td>...</td>\n",
              "      <td>...</td>\n",
              "      <td>...</td>\n",
              "      <td>...</td>\n",
              "      <td>...</td>\n",
              "      <td>...</td>\n",
              "      <td>...</td>\n",
              "      <td>...</td>\n",
              "      <td>...</td>\n",
              "    </tr>\n",
              "    <tr>\n",
              "      <th>63</th>\n",
              "      <td>Blade II</td>\n",
              "      <td>3/22/2002</td>\n",
              "      <td>March</td>\n",
              "      <td>22</td>\n",
              "      <td>2002</td>\n",
              "      <td>New Line Cinema</td>\n",
              "      <td>81676888</td>\n",
              "      <td>148030572</td>\n",
              "      <td>72661713</td>\n",
              "      <td>131691537</td>\n",
              "      <td>...</td>\n",
              "      <td>58953529</td>\n",
              "      <td>54000000</td>\n",
              "      <td>97869190</td>\n",
              "      <td>6.7</td>\n",
              "      <td>52</td>\n",
              "      <td>57</td>\n",
              "      <td>68</td>\n",
              "      <td>117</td>\n",
              "      <td>NaN</td>\n",
              "      <td>Guillermo del Toro</td>\n",
              "    </tr>\n",
              "    <tr>\n",
              "      <th>64</th>\n",
              "      <td>Blade: Trinity</td>\n",
              "      <td>12/8/2004</td>\n",
              "      <td>December</td>\n",
              "      <td>8</td>\n",
              "      <td>2004</td>\n",
              "      <td>New Line Cinema</td>\n",
              "      <td>52397389</td>\n",
              "      <td>88619322</td>\n",
              "      <td>78955776</td>\n",
              "      <td>133537328</td>\n",
              "      <td>...</td>\n",
              "      <td>27164311</td>\n",
              "      <td>65000000</td>\n",
              "      <td>109934026</td>\n",
              "      <td>5.8</td>\n",
              "      <td>38</td>\n",
              "      <td>24</td>\n",
              "      <td>58</td>\n",
              "      <td>113</td>\n",
              "      <td>NaN</td>\n",
              "      <td>David S. Goyer</td>\n",
              "    </tr>\n",
              "    <tr>\n",
              "      <th>65</th>\n",
              "      <td>Morbius</td>\n",
              "      <td>4/1/2022</td>\n",
              "      <td>April</td>\n",
              "      <td>1</td>\n",
              "      <td>2022</td>\n",
              "      <td>Sony Pictures</td>\n",
              "      <td>73865530</td>\n",
              "      <td>73865530</td>\n",
              "      <td>88893907</td>\n",
              "      <td>88893907</td>\n",
              "      <td>...</td>\n",
              "      <td>39005895</td>\n",
              "      <td>75000000</td>\n",
              "      <td>75000000</td>\n",
              "      <td>5.2</td>\n",
              "      <td>35</td>\n",
              "      <td>15</td>\n",
              "      <td>71</td>\n",
              "      <td>104</td>\n",
              "      <td>NaN</td>\n",
              "      <td>Daniel Espinosa</td>\n",
              "    </tr>\n",
              "    <tr>\n",
              "      <th>66</th>\n",
              "      <td>Hulk</td>\n",
              "      <td>6/20/2003</td>\n",
              "      <td>June</td>\n",
              "      <td>20</td>\n",
              "      <td>2003</td>\n",
              "      <td>Universal Pictures</td>\n",
              "      <td>132177234</td>\n",
              "      <td>230816958</td>\n",
              "      <td>112854445</td>\n",
              "      <td>197074178</td>\n",
              "      <td>...</td>\n",
              "      <td>108492911</td>\n",
              "      <td>137000000</td>\n",
              "      <td>239238803</td>\n",
              "      <td>5.6</td>\n",
              "      <td>54</td>\n",
              "      <td>63</td>\n",
              "      <td>29</td>\n",
              "      <td>138</td>\n",
              "      <td>NaN</td>\n",
              "      <td>Ang Lee</td>\n",
              "    </tr>\n",
              "    <tr>\n",
              "      <th>67</th>\n",
              "      <td>Madame Web</td>\n",
              "      <td>2/12/2024</td>\n",
              "      <td>February</td>\n",
              "      <td>12</td>\n",
              "      <td>2024</td>\n",
              "      <td>Sony Pictures</td>\n",
              "      <td>43756623</td>\n",
              "      <td>43756623</td>\n",
              "      <td>53941282</td>\n",
              "      <td>53941282</td>\n",
              "      <td>...</td>\n",
              "      <td>15335860</td>\n",
              "      <td>80000000</td>\n",
              "      <td>80000000</td>\n",
              "      <td>3.8</td>\n",
              "      <td>26</td>\n",
              "      <td>12</td>\n",
              "      <td>57</td>\n",
              "      <td>116</td>\n",
              "      <td>NaN</td>\n",
              "      <td>S.J. Clarkson</td>\n",
              "    </tr>\n",
              "  </tbody>\n",
              "</table>\n",
              "<p>68 rows × 23 columns</p>\n",
              "</div>\n",
              "    <div class=\"colab-df-buttons\">\n",
              "\n",
              "  <div class=\"colab-df-container\">\n",
              "    <button class=\"colab-df-convert\" onclick=\"convertToInteractive('df-506df82b-f488-4992-b0f2-7c16bd107e29')\"\n",
              "            title=\"Convert this dataframe to an interactive table.\"\n",
              "            style=\"display:none;\">\n",
              "\n",
              "  <svg xmlns=\"http://www.w3.org/2000/svg\" height=\"24px\" viewBox=\"0 -960 960 960\">\n",
              "    <path d=\"M120-120v-720h720v720H120Zm60-500h600v-160H180v160Zm220 220h160v-160H400v160Zm0 220h160v-160H400v160ZM180-400h160v-160H180v160Zm440 0h160v-160H620v160ZM180-180h160v-160H180v160Zm440 0h160v-160H620v160Z\"/>\n",
              "  </svg>\n",
              "    </button>\n",
              "\n",
              "  <style>\n",
              "    .colab-df-container {\n",
              "      display:flex;\n",
              "      gap: 12px;\n",
              "    }\n",
              "\n",
              "    .colab-df-convert {\n",
              "      background-color: #E8F0FE;\n",
              "      border: none;\n",
              "      border-radius: 50%;\n",
              "      cursor: pointer;\n",
              "      display: none;\n",
              "      fill: #1967D2;\n",
              "      height: 32px;\n",
              "      padding: 0 0 0 0;\n",
              "      width: 32px;\n",
              "    }\n",
              "\n",
              "    .colab-df-convert:hover {\n",
              "      background-color: #E2EBFA;\n",
              "      box-shadow: 0px 1px 2px rgba(60, 64, 67, 0.3), 0px 1px 3px 1px rgba(60, 64, 67, 0.15);\n",
              "      fill: #174EA6;\n",
              "    }\n",
              "\n",
              "    .colab-df-buttons div {\n",
              "      margin-bottom: 4px;\n",
              "    }\n",
              "\n",
              "    [theme=dark] .colab-df-convert {\n",
              "      background-color: #3B4455;\n",
              "      fill: #D2E3FC;\n",
              "    }\n",
              "\n",
              "    [theme=dark] .colab-df-convert:hover {\n",
              "      background-color: #434B5C;\n",
              "      box-shadow: 0px 1px 3px 1px rgba(0, 0, 0, 0.15);\n",
              "      filter: drop-shadow(0px 1px 2px rgba(0, 0, 0, 0.3));\n",
              "      fill: #FFFFFF;\n",
              "    }\n",
              "  </style>\n",
              "\n",
              "    <script>\n",
              "      const buttonEl =\n",
              "        document.querySelector('#df-506df82b-f488-4992-b0f2-7c16bd107e29 button.colab-df-convert');\n",
              "      buttonEl.style.display =\n",
              "        google.colab.kernel.accessAllowed ? 'block' : 'none';\n",
              "\n",
              "      async function convertToInteractive(key) {\n",
              "        const element = document.querySelector('#df-506df82b-f488-4992-b0f2-7c16bd107e29');\n",
              "        const dataTable =\n",
              "          await google.colab.kernel.invokeFunction('convertToInteractive',\n",
              "                                                    [key], {});\n",
              "        if (!dataTable) return;\n",
              "\n",
              "        const docLinkHtml = 'Like what you see? Visit the ' +\n",
              "          '<a target=\"_blank\" href=https://colab.research.google.com/notebooks/data_table.ipynb>data table notebook</a>'\n",
              "          + ' to learn more about interactive tables.';\n",
              "        element.innerHTML = '';\n",
              "        dataTable['output_type'] = 'display_data';\n",
              "        await google.colab.output.renderOutput(dataTable, element);\n",
              "        const docLink = document.createElement('div');\n",
              "        docLink.innerHTML = docLinkHtml;\n",
              "        element.appendChild(docLink);\n",
              "      }\n",
              "    </script>\n",
              "  </div>\n",
              "\n",
              "\n",
              "<div id=\"df-b8b7b9f6-0eb1-4256-9985-86160df2fccd\">\n",
              "  <button class=\"colab-df-quickchart\" onclick=\"quickchart('df-b8b7b9f6-0eb1-4256-9985-86160df2fccd')\"\n",
              "            title=\"Suggest charts\"\n",
              "            style=\"display:none;\">\n",
              "\n",
              "<svg xmlns=\"http://www.w3.org/2000/svg\" height=\"24px\"viewBox=\"0 0 24 24\"\n",
              "     width=\"24px\">\n",
              "    <g>\n",
              "        <path d=\"M19 3H5c-1.1 0-2 .9-2 2v14c0 1.1.9 2 2 2h14c1.1 0 2-.9 2-2V5c0-1.1-.9-2-2-2zM9 17H7v-7h2v7zm4 0h-2V7h2v10zm4 0h-2v-4h2v4z\"/>\n",
              "    </g>\n",
              "</svg>\n",
              "  </button>\n",
              "\n",
              "<style>\n",
              "  .colab-df-quickchart {\n",
              "      --bg-color: #E8F0FE;\n",
              "      --fill-color: #1967D2;\n",
              "      --hover-bg-color: #E2EBFA;\n",
              "      --hover-fill-color: #174EA6;\n",
              "      --disabled-fill-color: #AAA;\n",
              "      --disabled-bg-color: #DDD;\n",
              "  }\n",
              "\n",
              "  [theme=dark] .colab-df-quickchart {\n",
              "      --bg-color: #3B4455;\n",
              "      --fill-color: #D2E3FC;\n",
              "      --hover-bg-color: #434B5C;\n",
              "      --hover-fill-color: #FFFFFF;\n",
              "      --disabled-bg-color: #3B4455;\n",
              "      --disabled-fill-color: #666;\n",
              "  }\n",
              "\n",
              "  .colab-df-quickchart {\n",
              "    background-color: var(--bg-color);\n",
              "    border: none;\n",
              "    border-radius: 50%;\n",
              "    cursor: pointer;\n",
              "    display: none;\n",
              "    fill: var(--fill-color);\n",
              "    height: 32px;\n",
              "    padding: 0;\n",
              "    width: 32px;\n",
              "  }\n",
              "\n",
              "  .colab-df-quickchart:hover {\n",
              "    background-color: var(--hover-bg-color);\n",
              "    box-shadow: 0 1px 2px rgba(60, 64, 67, 0.3), 0 1px 3px 1px rgba(60, 64, 67, 0.15);\n",
              "    fill: var(--button-hover-fill-color);\n",
              "  }\n",
              "\n",
              "  .colab-df-quickchart-complete:disabled,\n",
              "  .colab-df-quickchart-complete:disabled:hover {\n",
              "    background-color: var(--disabled-bg-color);\n",
              "    fill: var(--disabled-fill-color);\n",
              "    box-shadow: none;\n",
              "  }\n",
              "\n",
              "  .colab-df-spinner {\n",
              "    border: 2px solid var(--fill-color);\n",
              "    border-color: transparent;\n",
              "    border-bottom-color: var(--fill-color);\n",
              "    animation:\n",
              "      spin 1s steps(1) infinite;\n",
              "  }\n",
              "\n",
              "  @keyframes spin {\n",
              "    0% {\n",
              "      border-color: transparent;\n",
              "      border-bottom-color: var(--fill-color);\n",
              "      border-left-color: var(--fill-color);\n",
              "    }\n",
              "    20% {\n",
              "      border-color: transparent;\n",
              "      border-left-color: var(--fill-color);\n",
              "      border-top-color: var(--fill-color);\n",
              "    }\n",
              "    30% {\n",
              "      border-color: transparent;\n",
              "      border-left-color: var(--fill-color);\n",
              "      border-top-color: var(--fill-color);\n",
              "      border-right-color: var(--fill-color);\n",
              "    }\n",
              "    40% {\n",
              "      border-color: transparent;\n",
              "      border-right-color: var(--fill-color);\n",
              "      border-top-color: var(--fill-color);\n",
              "    }\n",
              "    60% {\n",
              "      border-color: transparent;\n",
              "      border-right-color: var(--fill-color);\n",
              "    }\n",
              "    80% {\n",
              "      border-color: transparent;\n",
              "      border-right-color: var(--fill-color);\n",
              "      border-bottom-color: var(--fill-color);\n",
              "    }\n",
              "    90% {\n",
              "      border-color: transparent;\n",
              "      border-bottom-color: var(--fill-color);\n",
              "    }\n",
              "  }\n",
              "</style>\n",
              "\n",
              "  <script>\n",
              "    async function quickchart(key) {\n",
              "      const quickchartButtonEl =\n",
              "        document.querySelector('#' + key + ' button');\n",
              "      quickchartButtonEl.disabled = true;  // To prevent multiple clicks.\n",
              "      quickchartButtonEl.classList.add('colab-df-spinner');\n",
              "      try {\n",
              "        const charts = await google.colab.kernel.invokeFunction(\n",
              "            'suggestCharts', [key], {});\n",
              "      } catch (error) {\n",
              "        console.error('Error during call to suggestCharts:', error);\n",
              "      }\n",
              "      quickchartButtonEl.classList.remove('colab-df-spinner');\n",
              "      quickchartButtonEl.classList.add('colab-df-quickchart-complete');\n",
              "    }\n",
              "    (() => {\n",
              "      let quickchartButtonEl =\n",
              "        document.querySelector('#df-b8b7b9f6-0eb1-4256-9985-86160df2fccd button');\n",
              "      quickchartButtonEl.style.display =\n",
              "        google.colab.kernel.accessAllowed ? 'block' : 'none';\n",
              "    })();\n",
              "  </script>\n",
              "</div>\n",
              "\n",
              "  <div id=\"id_5bf27aa9-fddf-4cc0-8d72-942ad3642d96\">\n",
              "    <style>\n",
              "      .colab-df-generate {\n",
              "        background-color: #E8F0FE;\n",
              "        border: none;\n",
              "        border-radius: 50%;\n",
              "        cursor: pointer;\n",
              "        display: none;\n",
              "        fill: #1967D2;\n",
              "        height: 32px;\n",
              "        padding: 0 0 0 0;\n",
              "        width: 32px;\n",
              "      }\n",
              "\n",
              "      .colab-df-generate:hover {\n",
              "        background-color: #E2EBFA;\n",
              "        box-shadow: 0px 1px 2px rgba(60, 64, 67, 0.3), 0px 1px 3px 1px rgba(60, 64, 67, 0.15);\n",
              "        fill: #174EA6;\n",
              "      }\n",
              "\n",
              "      [theme=dark] .colab-df-generate {\n",
              "        background-color: #3B4455;\n",
              "        fill: #D2E3FC;\n",
              "      }\n",
              "\n",
              "      [theme=dark] .colab-df-generate:hover {\n",
              "        background-color: #434B5C;\n",
              "        box-shadow: 0px 1px 3px 1px rgba(0, 0, 0, 0.15);\n",
              "        filter: drop-shadow(0px 1px 2px rgba(0, 0, 0, 0.3));\n",
              "        fill: #FFFFFF;\n",
              "      }\n",
              "    </style>\n",
              "    <button class=\"colab-df-generate\" onclick=\"generateWithVariable('df')\"\n",
              "            title=\"Generate code using this dataframe.\"\n",
              "            style=\"display:none;\">\n",
              "\n",
              "  <svg xmlns=\"http://www.w3.org/2000/svg\" height=\"24px\"viewBox=\"0 0 24 24\"\n",
              "       width=\"24px\">\n",
              "    <path d=\"M7,19H8.4L18.45,9,17,7.55,7,17.6ZM5,21V16.75L18.45,3.32a2,2,0,0,1,2.83,0l1.4,1.43a1.91,1.91,0,0,1,.58,1.4,1.91,1.91,0,0,1-.58,1.4L9.25,21ZM18.45,9,17,7.55Zm-12,3A5.31,5.31,0,0,0,4.9,8.1,5.31,5.31,0,0,0,1,6.5,5.31,5.31,0,0,0,4.9,4.9,5.31,5.31,0,0,0,6.5,1,5.31,5.31,0,0,0,8.1,4.9,5.31,5.31,0,0,0,12,6.5,5.46,5.46,0,0,0,6.5,12Z\"/>\n",
              "  </svg>\n",
              "    </button>\n",
              "    <script>\n",
              "      (() => {\n",
              "      const buttonEl =\n",
              "        document.querySelector('#id_5bf27aa9-fddf-4cc0-8d72-942ad3642d96 button.colab-df-generate');\n",
              "      buttonEl.style.display =\n",
              "        google.colab.kernel.accessAllowed ? 'block' : 'none';\n",
              "\n",
              "      buttonEl.onclick = () => {\n",
              "        google.colab.notebook.generateWithVariable('df');\n",
              "      }\n",
              "      })();\n",
              "    </script>\n",
              "  </div>\n",
              "\n",
              "    </div>\n",
              "  </div>\n"
            ],
            "application/vnd.google.colaboratory.intrinsic+json": {
              "type": "dataframe",
              "variable_name": "df"
            }
          },
          "metadata": {},
          "execution_count": 2
        }
      ],
      "source": [
        "import pandas as pd\n",
        "df=pd.read_csv('marvel_box_office.csv')\n",
        "df"
      ]
    },
    {
      "cell_type": "code",
      "source": [
        "df.columns"
      ],
      "metadata": {
        "colab": {
          "base_uri": "https://localhost:8080/"
        },
        "id": "LenqMgV-Yeh8",
        "outputId": "1509d8f4-0fff-40ff-95bb-1542c125a4c8"
      },
      "execution_count": null,
      "outputs": [
        {
          "output_type": "execute_result",
          "data": {
            "text/plain": [
              "Index(['Movie', 'Release Date', 'Release Month', 'Release Day', 'Release Year',\n",
              "       'Ownership', 'Domestic Box Office', 'Inflation Adjusted Domestic',\n",
              "       'International Box Office', 'Inflation Adjusted International',\n",
              "       'Worldwide Box Office', 'Inflation Adjusted Worldwide',\n",
              "       'Opening Weekend', 'Inflation Adjusted Opening Weekend', 'Budget',\n",
              "       'Inflation Adjusted Budget', 'IMDb Score', 'Meta Score', 'Tomatometer',\n",
              "       'Rotten Tomato Audience Score', 'Run Time In Minutes', 'Phase',\n",
              "       'Director'],\n",
              "      dtype='object')"
            ]
          },
          "metadata": {},
          "execution_count": 3
        }
      ]
    },
    {
      "cell_type": "code",
      "source": [
        "df.info()"
      ],
      "metadata": {
        "colab": {
          "base_uri": "https://localhost:8080/"
        },
        "id": "1X4GKV4dYjew",
        "outputId": "db5be74d-dda2-48f3-c112-ae5864cb9b4d"
      },
      "execution_count": null,
      "outputs": [
        {
          "output_type": "stream",
          "name": "stdout",
          "text": [
            "<class 'pandas.core.frame.DataFrame'>\n",
            "RangeIndex: 68 entries, 0 to 67\n",
            "Data columns (total 23 columns):\n",
            " #   Column                              Non-Null Count  Dtype  \n",
            "---  ------                              --------------  -----  \n",
            " 0   Movie                               68 non-null     object \n",
            " 1   Release Date                        68 non-null     object \n",
            " 2   Release Month                       68 non-null     object \n",
            " 3   Release Day                         68 non-null     int64  \n",
            " 4   Release Year                        68 non-null     int64  \n",
            " 5   Ownership                           68 non-null     object \n",
            " 6   Domestic Box Office                 68 non-null     int64  \n",
            " 7   Inflation Adjusted Domestic         68 non-null     int64  \n",
            " 8   International Box Office            68 non-null     int64  \n",
            " 9   Inflation Adjusted International    68 non-null     int64  \n",
            " 10  Worldwide Box Office                68 non-null     int64  \n",
            " 11  Inflation Adjusted Worldwide        68 non-null     int64  \n",
            " 12  Opening Weekend                     68 non-null     int64  \n",
            " 13  Inflation Adjusted Opening Weekend  68 non-null     int64  \n",
            " 14  Budget                              68 non-null     int64  \n",
            " 15  Inflation Adjusted Budget           68 non-null     int64  \n",
            " 16  IMDb Score                          68 non-null     float64\n",
            " 17  Meta Score                          68 non-null     int64  \n",
            " 18  Tomatometer                         68 non-null     int64  \n",
            " 19  Rotten Tomato Audience Score        68 non-null     int64  \n",
            " 20  Run Time In Minutes                 68 non-null     int64  \n",
            " 21  Phase                               33 non-null     object \n",
            " 22  Director                            68 non-null     object \n",
            "dtypes: float64(1), int64(16), object(6)\n",
            "memory usage: 12.3+ KB\n"
          ]
        }
      ]
    },
    {
      "cell_type": "code",
      "source": [
        "df['Inflation Adjusted International']"
      ],
      "metadata": {
        "colab": {
          "base_uri": "https://localhost:8080/"
        },
        "id": "5UdAFkWPY2t6",
        "outputId": "25382382-bc45-41c7-e3be-16566370b444"
      },
      "execution_count": null,
      "outputs": [
        {
          "output_type": "execute_result",
          "data": {
            "text/plain": [
              "0     390919596\n",
              "1     191779378\n",
              "2     412022030\n",
              "3     356261892\n",
              "4     257494054\n",
              "        ...    \n",
              "63    131691537\n",
              "64    133537328\n",
              "65     88893907\n",
              "66    197074178\n",
              "67     53941282\n",
              "Name: Inflation Adjusted International, Length: 68, dtype: int64"
            ]
          },
          "metadata": {},
          "execution_count": 5
        }
      ]
    },
    {
      "cell_type": "code",
      "source": [
        "df['IMDb Score'].mean()"
      ],
      "metadata": {
        "colab": {
          "base_uri": "https://localhost:8080/"
        },
        "id": "na5PjQFfY9oQ",
        "outputId": "a6957673-9aa3-4fec-94fc-f6a767b1edc8"
      },
      "execution_count": null,
      "outputs": [
        {
          "output_type": "execute_result",
          "data": {
            "text/plain": [
              "6.760294117647058"
            ]
          },
          "metadata": {},
          "execution_count": 7
        }
      ]
    },
    {
      "cell_type": "code",
      "source": [
        "import matplotlib.pyplot as plt\n",
        "plt.bar(df['Meta Score'],df['Budget'])"
      ],
      "metadata": {
        "colab": {
          "base_uri": "https://localhost:8080/",
          "height": 462
        },
        "id": "tgGFQQ5-ZZlk",
        "outputId": "93d9b393-7fd1-481c-d64b-f987ec1f6793"
      },
      "execution_count": null,
      "outputs": [
        {
          "output_type": "execute_result",
          "data": {
            "text/plain": [
              "<BarContainer object of 68 artists>"
            ]
          },
          "metadata": {},
          "execution_count": 10
        },
        {
          "output_type": "display_data",
          "data": {
            "text/plain": [
              "<Figure size 640x480 with 1 Axes>"
            ],
            "image/png": "[encoded data removed]"
          },
          "metadata": {}
        }
      ]
    },
    {
      "cell_type": "code",
      "source": [
        "df[df['Opening Weekend']==357115007]['Movie']"
      ],
      "metadata": {
        "colab": {
          "base_uri": "https://localhost:8080/"
        },
        "id": "Mu_NIAD4aH_4",
        "outputId": "d41a8515-86df-443a-c04a-b6c7ca8fc2b1"
      },
      "execution_count": null,
      "outputs": [
        {
          "output_type": "execute_result",
          "data": {
            "text/plain": [
              "21    Avengers: Endgame\n",
              "Name: Movie, dtype: object"
            ]
          },
          "metadata": {},
          "execution_count": 12
        }
      ]
    },
    {
      "cell_type": "code",
      "source": [
        "df['Release Month'].value_counts().index[0]"
      ],
      "metadata": {
        "colab": {
          "base_uri": "https://localhost:8080/",
          "height": 35
        },
        "id": "nMy7Ju-2aWUA",
        "outputId": "f4ed141c-ce0b-4797-ae2f-332e4363ee6f"
      },
      "execution_count": null,
      "outputs": [
        {
          "output_type": "execute_result",
          "data": {
            "text/plain": [
              "'May'"
            ],
            "application/vnd.google.colaboratory.intrinsic+json": {
              "type": "string"
            }
          },
          "metadata": {},
          "execution_count": 14
        }
      ]
    },
    {
      "cell_type": "code",
      "source": [
        "df['Phase'].value_counts()"
      ],
      "metadata": {
        "colab": {
          "base_uri": "https://localhost:8080/"
        },
        "id": "-YDQKOsuau6T",
        "outputId": "c3fd65df-5796-45ef-fad2-a2b9d6f52462"
      },
      "execution_count": null,
      "outputs": [
        {
          "output_type": "execute_result",
          "data": {
            "text/plain": [
              "Three    11\n",
              "Four      7\n",
              "One       6\n",
              "Two       6\n",
              "Five      3\n",
              "Name: Phase, dtype: int64"
            ]
          },
          "metadata": {},
          "execution_count": 15
        }
      ]
    },
    {
      "cell_type": "code",
      "source": [
        "df['Run Time In Minutes'].mean()"
      ],
      "metadata": {
        "colab": {
          "base_uri": "https://localhost:8080/"
        },
        "id": "kPT8Gz3wa7vk",
        "outputId": "8b39d7c1-aacc-419a-f0bb-851facd3b5ee"
      },
      "execution_count": null,
      "outputs": [
        {
          "output_type": "execute_result",
          "data": {
            "text/plain": [
              "123.70588235294117"
            ]
          },
          "metadata": {},
          "execution_count": 16
        }
      ]
    },
    {
      "cell_type": "code",
      "source": [
        "df.groupby(by=df['Director'])['IMDb Score'].mean()"
      ],
      "metadata": {
        "colab": {
          "base_uri": "https://localhost:8080/"
        },
        "id": "J231lf8UbS2Q",
        "outputId": "86fadab4-e785-4be0-88c6-8efeb36bf6d1"
      },
      "execution_count": null,
      "outputs": [
        {
          "output_type": "execute_result",
          "data": {
            "text/plain": [
              "Director\n",
              "Alan Taylor                     6.800000\n",
              "Andy Serkis                     5.900000\n",
              "Ang Lee                         5.600000\n",
              "Anna Boden & Ryan Fleck         6.800000\n",
              "Anthony and Joe Russo           8.075000\n",
              "Brett Ratner                    6.600000\n",
              "Brian Singer                    7.375000\n",
              "Cate Shortland                  6.700000\n",
              "Chloe Zhao                      6.300000\n",
              "Daniel Espinosa                 5.200000\n",
              "David Leitch                    7.600000\n",
              "David S. Goyer                  5.800000\n",
              "Destin Daniel Cretton           7.400000\n",
              "Gavin Hood                      6.500000\n",
              "Guillermo del Toro              6.700000\n",
              "James Gunn                      7.833333\n",
              "James Mangold                   7.400000\n",
              "Joe Johnston                    6.900000\n",
              "Jon Favreau                     7.400000\n",
              "Jon Watts                       7.666667\n",
              "Jonathan Hensleigh              6.400000\n",
              "Josh Boone                      5.300000\n",
              "Josh Trank                      4.300000\n",
              "Joss Whedon                     7.650000\n",
              "Kenneth Brangh                  7.000000\n",
              "Lexi Alexander                  5.900000\n",
              "Louis Leterrier                 6.600000\n",
              "Marc Webb                       6.750000\n",
              "Mark Neveldine, Brian Taylor    4.300000\n",
              "Mark Steven Johnson             5.300000\n",
              "Matthew Vaughn                  7.700000\n",
              "Nia DaCosta                     5.700000\n",
              "Peyton Reed                     6.800000\n",
              "Rob Bowman                      4.700000\n",
              "Ruben Fleischer                 6.600000\n",
              "Ryan Coogler                    7.000000\n",
              "S.J. Clarkson                   3.800000\n",
              "Sam Raimi                       7.025000\n",
              "Scott Derrickson                7.500000\n",
              "Shane Black                     7.100000\n",
              "Simon Kinberg                   5.700000\n",
              "Stephen Norrington              7.100000\n",
              "Taika Waititi                   7.050000\n",
              "Tim Miller                      8.000000\n",
              "Tim Story                       5.650000\n",
              "Name: IMDb Score, dtype: float64"
            ]
          },
          "metadata": {},
          "execution_count": 20
        }
      ]
    },
    {
      "cell_type": "code",
      "source": [
        "plt.plot(df['Release Year'],df['Inflation Adjusted Worldwide'])"
      ],
      "metadata": {
        "colab": {
          "base_uri": "https://localhost:8080/",
          "height": 462
        },
        "id": "iv5Qfs5BcAiB",
        "outputId": "195ad028-8fe9-4c88-f368-0d10a7835d66"
      },
      "execution_count": null,
      "outputs": [
        {
          "output_type": "execute_result",
          "data": {
            "text/plain": [
              "[<matplotlib.lines.Line2D at 0x7bc36f6fd390>]"
            ]
          },
          "metadata": {},
          "execution_count": 21
        },
        {
          "output_type": "display_data",
          "data": {
            "text/plain": [
              "<Figure size 640x480 with 1 Axes>"
            ],
            "image/png": "[encoded data removed]"
          },
          "metadata": {}
        }
      ]
    },
    {
      "cell_type": "code",
      "source": [
        "plt.plot(df['Inflation Adjusted Worldwide'],df['Release Year'])"
      ],
      "metadata": {
        "id": "PkpFupFbcTsp",
        "colab": {
          "base_uri": "https://localhost:8080/",
          "height": 467
        },
        "outputId": "46202f9f-6723-480b-dc61-a9976e252087"
      },
      "execution_count": null,
      "outputs": [
        {
          "output_type": "execute_result",
          "data": {
            "text/plain": [
              "[<matplotlib.lines.Line2D at 0x7bc375185690>]"
            ]
          },
          "metadata": {},
          "execution_count": 22
        },
        {
          "output_type": "display_data",
          "data": {
            "text/plain": [
              "<Figure size 640x480 with 1 Axes>"
            ],
            "image/png": "[encoded data removed]"
          },
          "metadata": {}
        }
      ]
    },
    {
      "cell_type": "code",
      "source": [
        "plt.bar(df['Release Year'],df['Inflation Adjusted Worldwide'])"
      ],
      "metadata": {
        "id": "m-EjwrlVcwU3",
        "outputId": "4b37e67a-b175-47b8-b81c-4869bd9f8563",
        "colab": {
          "base_uri": "https://localhost:8080/",
          "height": 462
        }
      },
      "execution_count": 24,
      "outputs": [
        {
          "output_type": "execute_result",
          "data": {
            "text/plain": [
              "<BarContainer object of 68 artists>"
            ]
          },
          "metadata": {},
          "execution_count": 24
        },
        {
          "output_type": "display_data",
          "data": {
            "text/plain": [
              "<Figure size 640x480 with 1 Axes>"
            ],
            "image/png": "[encoded data removed]"
          },
          "metadata": {}
        }
      ]
    },
    {
      "cell_type": "code",
      "source": [
        "plt.scatter(df['Budget'],df['IMDb Score'])"
      ],
      "metadata": {
        "id": "16BV-GZBcy7N",
        "colab": {
          "base_uri": "https://localhost:8080/",
          "height": 465
        },
        "outputId": "eb12f98a-9144-4a98-b8ac-c3d2b0d9ee43"
      },
      "execution_count": 25,
      "outputs": [
        {
          "output_type": "execute_result",
          "data": {
            "text/plain": [
              "<matplotlib.collections.PathCollection at 0x7bc36f4aa9b0>"
            ]
          },
          "metadata": {},
          "execution_count": 25
        },
        {
          "output_type": "display_data",
          "data": {
            "text/plain": [
              "<Figure size 640x480 with 1 Axes>"
            ],
            "image/png": "[encoded data removed]"
          },
          "metadata": {}
        }
      ]
    },
    {
      "cell_type": "code",
      "source": [
        "df.groupby(by='Phase')['Rotten Tomato Audience Score'].mean()"
      ],
      "metadata": {
        "colab": {
          "base_uri": "https://localhost:8080/"
        },
        "id": "QcZOtDk2dqS4",
        "outputId": "58779ce2-0c4e-46d7-b148-18bfe43464e7"
      },
      "execution_count": 27,
      "outputs": [
        {
          "output_type": "execute_result",
          "data": {
            "text/plain": [
              "Phase\n",
              "Five     86.000000\n",
              "Four     88.428571\n",
              "One      78.833333\n",
              "Three    83.363636\n",
              "Two      84.000000\n",
              "Name: Rotten Tomato Audience Score, dtype: float64"
            ]
          },
          "metadata": {},
          "execution_count": 27
        }
      ]
    },
    {
      "cell_type": "code",
      "source": [
        "df.groupby(by='Ownership')['Budget'].mean().sort_values(ascending=False)"
      ],
      "metadata": {
        "colab": {
          "base_uri": "https://localhost:8080/"
        },
        "id": "9Y6uANxpeFN2",
        "outputId": "9096ba0f-4648-43b5-b0db-eecd0a9d4fd1"
      },
      "execution_count": 28,
      "outputs": [
        {
          "output_type": "execute_result",
          "data": {
            "text/plain": [
              "Ownership\n",
              "Marvel Studios        2.031303e+08\n",
              "Sony Pictures         1.431818e+08\n",
              "Universal Pictures    1.370000e+08\n",
              "20th Century Fox      1.248611e+08\n",
              "New Line Cinema       5.466667e+07\n",
              "Lionsgate Films       3.400000e+07\n",
              "Name: Budget, dtype: float64"
            ]
          },
          "metadata": {},
          "execution_count": 28
        }
      ]
    },
    {
      "cell_type": "code",
      "source": [
        "vall=df.groupby(by='Ownership')['IMDb Score'].mean().sort_values(ascending=False)\n",
        "vall"
      ],
      "metadata": {
        "colab": {
          "base_uri": "https://localhost:8080/"
        },
        "id": "SMapQQeJecAb",
        "outputId": "b43cec7e-15a0-4a83-8469-b6dd286fb8cd"
      },
      "execution_count": 29,
      "outputs": [
        {
          "output_type": "execute_result",
          "data": {
            "text/plain": [
              "Ownership\n",
              "Marvel Studios        7.245455\n",
              "New Line Cinema       6.533333\n",
              "20th Century Fox      6.516667\n",
              "Lionsgate Films       6.150000\n",
              "Sony Pictures         5.981818\n",
              "Universal Pictures    5.600000\n",
              "Name: IMDb Score, dtype: float64"
            ]
          },
          "metadata": {},
          "execution_count": 29
        }
      ]
    },
    {
      "cell_type": "code",
      "source": [
        "df['Release Day'].mode()[0]"
      ],
      "metadata": {
        "colab": {
          "base_uri": "https://localhost:8080/"
        },
        "id": "DHhAN8MJe3Y4",
        "outputId": "7dc7ca87-4311-4409-a8db-5a5a2cf54134"
      },
      "execution_count": 32,
      "outputs": [
        {
          "output_type": "execute_result",
          "data": {
            "text/plain": [
              "3"
            ]
          },
          "metadata": {},
          "execution_count": 32
        }
      ]
    },
    {
      "cell_type": "code",
      "source": [
        "df.groupby(by='Director')['Worldwide Box Office'].sum().idxmax()"
      ],
      "metadata": {
        "colab": {
          "base_uri": "https://localhost:8080/",
          "height": 35
        },
        "id": "HCj6Xfn2e-9e",
        "outputId": "fe9daac6-2ccf-40ae-8efb-aabd1e991907"
      },
      "execution_count": 34,
      "outputs": [
        {
          "output_type": "execute_result",
          "data": {
            "text/plain": [
              "'Anthony and Joe Russo'"
            ],
            "application/vnd.google.colaboratory.intrinsic+json": {
              "type": "string"
            }
          },
          "metadata": {},
          "execution_count": 34
        }
      ]
    },
    {
      "cell_type": "code",
      "source": [
        "vall=df.groupby(by='Ownership')['Run Time In Minutes'].mean().sort_values(ascending=False)\n",
        "vall"
      ],
      "metadata": {
        "colab": {
          "base_uri": "https://localhost:8080/"
        },
        "id": "Xyp2mkCDfV2k",
        "outputId": "f3f923f2-7fdd-4e31-a59e-3394e10a34f2"
      },
      "execution_count": 35,
      "outputs": [
        {
          "output_type": "execute_result",
          "data": {
            "text/plain": [
              "Ownership\n",
              "Universal Pictures    138.000000\n",
              "Marvel Studios        131.696970\n",
              "Sony Pictures         118.181818\n",
              "New Line Cinema       116.666667\n",
              "20th Century Fox      113.944444\n",
              "Lionsgate Films       113.500000\n",
              "Name: Run Time In Minutes, dtype: float64"
            ]
          },
          "metadata": {},
          "execution_count": 35
        }
      ]
    },
    {
      "cell_type": "code",
      "source": [
        "#df['Release Month'].corr(df['IMDb Score'])\n",
        "df.info()"
      ],
      "metadata": {
        "colab": {
          "base_uri": "https://localhost:8080/"
        },
        "id": "zWUcsvpcfg8y",
        "outputId": "2e4cb7a3-ea3c-441a-e48b-2991c9c0ee9a"
      },
      "execution_count": 37,
      "outputs": [
        {
          "output_type": "stream",
          "name": "stdout",
          "text": [
            "<class 'pandas.core.frame.DataFrame'>\n",
            "RangeIndex: 68 entries, 0 to 67\n",
            "Data columns (total 23 columns):\n",
            " #   Column                              Non-Null Count  Dtype  \n",
            "---  ------                              --------------  -----  \n",
            " 0   Movie                               68 non-null     object \n",
            " 1   Release Date                        68 non-null     object \n",
            " 2   Release Month                       68 non-null     object \n",
            " 3   Release Day                         68 non-null     int64  \n",
            " 4   Release Year                        68 non-null     int64  \n",
            " 5   Ownership                           68 non-null     object \n",
            " 6   Domestic Box Office                 68 non-null     int64  \n",
            " 7   Inflation Adjusted Domestic         68 non-null     int64  \n",
            " 8   International Box Office            68 non-null     int64  \n",
            " 9   Inflation Adjusted International    68 non-null     int64  \n",
            " 10  Worldwide Box Office                68 non-null     int64  \n",
            " 11  Inflation Adjusted Worldwide        68 non-null     int64  \n",
            " 12  Opening Weekend                     68 non-null     int64  \n",
            " 13  Inflation Adjusted Opening Weekend  68 non-null     int64  \n",
            " 14  Budget                              68 non-null     int64  \n",
            " 15  Inflation Adjusted Budget           68 non-null     int64  \n",
            " 16  IMDb Score                          68 non-null     float64\n",
            " 17  Meta Score                          68 non-null     int64  \n",
            " 18  Tomatometer                         68 non-null     int64  \n",
            " 19  Rotten Tomato Audience Score        68 non-null     int64  \n",
            " 20  Run Time In Minutes                 68 non-null     int64  \n",
            " 21  Phase                               33 non-null     object \n",
            " 22  Director                            68 non-null     object \n",
            "dtypes: float64(1), int64(16), object(6)\n",
            "memory usage: 12.3+ KB\n"
          ]
        }
      ]
    }
  ]
}